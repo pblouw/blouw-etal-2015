{
 "metadata": {
  "name": "",
  "signature": "sha256:8a4e756af64227d371ad382fe3c3277fd3d04f5379e712d747674fc2cd058e2d"
 },
 "nbformat": 3,
 "nbformat_minor": 0,
 "worksheets": [
  {
   "cells": [
    {
     "cell_type": "heading",
     "level": 1,
     "metadata": {},
     "source": [
      "Nengo example: Controlled question answering"
     ]
    },
    {
     "cell_type": "markdown",
     "metadata": {},
     "source": [
      "This demo implements a simple form of question answering by using the basal ganglia to store and retrieve information from working memory in response to visual input. More specifically, the basal ganglia decides what to do with the information in the visual channel based on its content (i.e. whether it is a statement or a question)\n",
      "\n",
      "When you run the network, it will start by binding \u2018RED\u2019 and \u2018CIRCLE\u2019 and then binding \u2018BLUE\u2019 and \u2018SQUARE\u2019 so the memory essentially has RED*CIRCLE + BLUE*SQUARE. It does this because it is told that RED*CIRCLE is a STATEMENT (i.e. RED*CIRCLE+STATEMENT in the code) as is BLUE*SQUARE. Then it is presented with something like QUESTION+RED (i.e., \u2018What is red?\u2019). The basal ganglia then reroutes that input to be compared to what is in working memory and the result shows up in the motor channel."
     ]
    },
    {
     "cell_type": "code",
     "collapsed": false,
     "input": [
      "# Setup for the notebook\n",
      "import nengo\n",
      "from nengo import spa"
     ],
     "language": "python",
     "metadata": {},
     "outputs": []
    },
    {
     "cell_type": "heading",
     "level": 2,
     "metadata": {},
     "source": [
      "Step 1: Create the model"
     ]
    },
    {
     "cell_type": "markdown",
     "metadata": {},
     "source": [
      "Notice that when you specify actions, you're determining which modules are connected to which. For example, by having a mapping that depends on the state of cortex, you are determining that the cortex and basal ganglia must be connected. As well, when you specify that the result of the action changes the state of cortex, then you are determining that thalamus must be connected to cortex."
     ]
    },
    {
     "cell_type": "code",
     "collapsed": false,
     "input": [
      "# Number of dimensions for the Semantic Pointers\n",
      "dimensions = 128\n",
      "\n",
      "# Make a model object with the SPA network\n",
      "model = spa.SPA(label='Controlled_Question_Answering')\n",
      "\n",
      "with model:\n",
      "    # Specify the modules to be used\n",
      "    model.vision = spa.Buffer(dimensions=dimensions, neurons_per_dimension=100) \n",
      "    model.motor = spa.Buffer(dimensions=dimensions, neurons_per_dimension=100)\n",
      "    model.memory = spa.Memory(dimensions=dimensions, neurons_per_dimension=100, synapse=0.1)\n",
      "    \n",
      "    # Specify the action mapping\n",
      "    actions = spa.Actions(\n",
      "        'dot(vision, STATEMENT) --> memory = vision',\n",
      "        'dot(vision, QUESTION) --> motor = ~vision*memory',\n",
      "    )\n",
      "    model.bg = spa.BasalGanglia(actions=actions)\n",
      "    model.thal = spa.Thalamus(model.bg)"
     ],
     "language": "python",
     "metadata": {},
     "outputs": []
    },
    {
     "cell_type": "heading",
     "level": 2,
     "metadata": {},
     "source": [
      "Step 2: Provide the input"
     ]
    },
    {
     "cell_type": "code",
     "collapsed": false,
     "input": [
      "def Input(t):\n",
      "    if 0.1 < t < 0.3:\n",
      "        return 'STATEMENT+RED*CIRCLE'\n",
      "    elif 0.35 < t < 0.5:\n",
      "        return 'STATEMENT+BLUE*SQUARE'\n",
      "    elif 0.55 < t < 0.7:\n",
      "        return 'QUESTION+RED'\n",
      "    elif 0.75 < t < 0.9:\n",
      "        return 'QUESTION+BLUE'\n",
      "    else:\n",
      "        return '0'\n",
      "\n",
      "with model:\n",
      "    model.input = spa.Input(vision=Input)    "
     ],
     "language": "python",
     "metadata": {},
     "outputs": []
    },
    {
     "cell_type": "heading",
     "level": 2,
     "metadata": {},
     "source": [
      "Step 3: Run the model"
     ]
    },
    {
     "cell_type": "code",
     "collapsed": false,
     "input": [
      "with model:\n",
      "    vision = nengo.Probe(model.vision.state.output, synapse=0.03)\n",
      "    motor = nengo.Probe(model.motor.state.output, synapse=0.03)\n",
      "    memory = nengo.Probe(model.memory.state.output, synapse=0.03)\n",
      "    actions = nengo.Probe(model.thal.actions.output, synapse=0.01)\n",
      "    utility = nengo.Probe(model.bg.input, synapse=0.01)"
     ],
     "language": "python",
     "metadata": {},
     "outputs": []
    },
    {
     "cell_type": "heading",
     "level": 2,
     "metadata": {},
     "source": [
      "Step 4: Run the model"
     ]
    },
    {
     "cell_type": "code",
     "collapsed": false,
     "input": [
      "# Create the simulator object\n",
      "sim = nengo.Simulator(model)\n",
      "# Simulate the model for 1.2 seconds\n",
      "sim.run(1.2)"
     ],
     "language": "python",
     "metadata": {},
     "outputs": []
    },
    {
     "cell_type": "heading",
     "level": 2,
     "metadata": {},
     "source": [
      "Step 5: Plot the results"
     ]
    },
    {
     "cell_type": "code",
     "collapsed": false,
     "input": [
      "%matplotlib inline\n",
      "import matplotlib.pyplot as plt\n",
      "\n",
      "fig = plt.figure(figsize=(12,8))\n",
      "p1 = fig.add_subplot(5,1,1)\n",
      "p1.plot(sim.trange(), spa.similarity(sim.data, vision))\n",
      "p1.legend(vision.target.vocab.keys, fontsize='x-small')\n",
      "p1.set_ylabel('Vision')\n",
      "\n",
      "p2 = fig.add_subplot(5,1,2)\n",
      "p2.plot(sim.trange(), spa.similarity(sim.data, memory))\n",
      "p2.legend(memory.target.vocab.keys, fontsize='x-small')\n",
      "p2.set_ylabel('Memory')\n",
      "\n",
      "p3 = fig.add_subplot(5,1,3)\n",
      "p3.plot(sim.trange(), spa.similarity(sim.data, motor))\n",
      "p3.legend(motor.target.vocab.keys, fontsize='x-small')\n",
      "p3.set_ylabel('Motor')\n",
      "\n",
      "p4 = fig.add_subplot(5,1,4)\n",
      "p4.plot(sim.trange(), sim.data[actions])\n",
      "p4.set_ylabel('Action')\n",
      "\n",
      "p5 = fig.add_subplot(5,1,5)\n",
      "p5.plot(sim.trange(), sim.data[utility])\n",
      "p5.set_ylabel('Utility')\n",
      "\n",
      "fig.subplots_adjust(hspace=0.2)"
     ],
     "language": "python",
     "metadata": {},
     "outputs": []
    }
   ],
   "metadata": {}
  }
 ]
}