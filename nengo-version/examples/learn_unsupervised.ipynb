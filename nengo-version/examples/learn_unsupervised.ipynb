{
 "metadata": {
  "name": "",
  "signature": "sha256:a6056b740a1ed028f00579e27ab9dcd2dc6e0da7351857bd842c068e3b2277d0"
 },
 "nbformat": 3,
 "nbformat_minor": 0,
 "worksheets": [
  {
   "cells": [
    {
     "cell_type": "markdown",
     "metadata": {},
     "source": [
      "# Nengo Example: Unsupervised learning\n",
      "\n",
      "When we do error-modulated learning with the `nengo.PES` rule,\n",
      "we have a pretty clear idea of what we want to happen.\n",
      "Years of neuroscientific experiments have yielded\n",
      "learning rules explaining how synaptic strengths\n",
      "change given certain stimulation protocols.\n",
      "But what do these learning rules actually do\n",
      "to the information transmitted across an\n",
      "ensemble-to-ensemble connection?\n",
      "\n",
      "We can investigate this in Nengo.\n",
      "Currently, we've implemented the `nengo.BCM`\n",
      "and `nengo.Oja` rules."
     ]
    },
    {
     "cell_type": "code",
     "collapsed": false,
     "input": [
      "import nengo\n",
      "print(nengo.BCM.__doc__)"
     ],
     "language": "python",
     "metadata": {},
     "outputs": []
    },
    {
     "cell_type": "code",
     "collapsed": false,
     "input": [
      "print(nengo.Oja.__doc__)"
     ],
     "language": "python",
     "metadata": {},
     "outputs": []
    },
    {
     "cell_type": "markdown",
     "metadata": {},
     "source": [
      "## Step 1: Create a simple communication channel\n",
      "\n",
      "The only difference between this network and most\n",
      "models you've seen so far is that we're going to\n",
      "set the decoder solver in the communication channel\n",
      "to generate a full connection weight matrix\n",
      "which we can then learn using typical delta learning rules."
     ]
    },
    {
     "cell_type": "code",
     "collapsed": false,
     "input": [
      "import numpy as np\n",
      "import nengo\n",
      "\n",
      "model = nengo.Network()\n",
      "with model:\n",
      "    sin = nengo.Node(lambda t: np.sin(t*4))\n",
      "    \n",
      "    pre = nengo.Ensemble(100, dimensions=1)\n",
      "    post = nengo.Ensemble(100, dimensions=1)\n",
      "\n",
      "    nengo.Connection(sin, pre)\n",
      "    conn = nengo.Connection(pre, post, solver=nengo.decoders.LstsqL2(weights=True))\n",
      "\n",
      "    pre_p = nengo.Probe(pre, synapse=0.01)\n",
      "    post_p = nengo.Probe(post, synapse=0.01)"
     ],
     "language": "python",
     "metadata": {},
     "outputs": []
    },
    {
     "cell_type": "code",
     "collapsed": false,
     "input": [
      "# Verify that it does a communication channel\n",
      "sim = nengo.Simulator(model)\n",
      "sim.run(2.0)\n",
      "\n",
      "%matplotlib inline\n",
      "import matplotlib.pyplot as plt\n",
      "plt.plot(sim.trange(), sim.data[pre_p], label=\"Pre\")\n",
      "plt.plot(sim.trange(), sim.data[post_p], label=\"Post\")\n",
      "plt.legend(loc=\"best\")"
     ],
     "language": "python",
     "metadata": {},
     "outputs": []
    },
    {
     "cell_type": "markdown",
     "metadata": {},
     "source": [
      "## What does BCM do?"
     ]
    },
    {
     "cell_type": "code",
     "collapsed": false,
     "input": [
      "conn.learning_rule = nengo.BCM(learning_rate=40.0)  # Learning rate set artifically high!"
     ],
     "language": "python",
     "metadata": {},
     "outputs": []
    },
    {
     "cell_type": "code",
     "collapsed": false,
     "input": [
      "sim = nengo.Simulator(model)\n",
      "sim.run(20.0)\n",
      "\n",
      "plt.figure(figsize=(12, 4))\n",
      "plt.plot(sim.trange(), sim.data[pre_p], label=\"Pre\")\n",
      "plt.plot(sim.trange(), sim.data[post_p], label=\"Post\")\n",
      "plt.ylim(-1.6, 1.6)\n",
      "plt.legend(loc=\"lower left\")"
     ],
     "language": "python",
     "metadata": {},
     "outputs": []
    },
    {
     "cell_type": "markdown",
     "metadata": {},
     "source": [
      "The BCM rule appears to increase the gain on the connection.\n",
      "This seems consistent with the idea that it potentiates\n",
      "active synapses, and depresses non-active synapses."
     ]
    },
    {
     "cell_type": "markdown",
     "metadata": {},
     "source": [
      "## What does Oja do?"
     ]
    },
    {
     "cell_type": "code",
     "collapsed": false,
     "input": [
      "conn.learning_rule = nengo.Oja(learning_rate=0.05)"
     ],
     "language": "python",
     "metadata": {},
     "outputs": []
    },
    {
     "cell_type": "code",
     "collapsed": false,
     "input": [
      "sim = nengo.Simulator(model)\n",
      "sim.run(20.0)\n",
      "\n",
      "plt.figure(figsize=(12, 4))\n",
      "plt.plot(sim.trange(), sim.data[pre_p], label=\"Pre\")\n",
      "plt.plot(sim.trange(), sim.data[post_p], label=\"Post\")\n",
      "plt.legend(loc=\"lower left\")"
     ],
     "language": "python",
     "metadata": {},
     "outputs": []
    },
    {
     "cell_type": "markdown",
     "metadata": {},
     "source": [
      "The Oja rule appears to do the opposite;\n",
      "it attenuates the signal across the connection.\n",
      "Interestingly, it appears to settle in a stable\n",
      "state with an interesting discontinuity\n",
      "based on the derivative of `pre`."
     ]
    }
   ],
   "metadata": {}
  }
 ]
}