{
 "metadata": {
  "name": "",
  "signature": "sha256:164caabb5735ed93471dcbfd633744b88a2ae1726f94d1bb439822326d34fc18"
 },
 "nbformat": 3,
 "nbformat_minor": 0,
 "worksheets": [
  {
   "cells": [
    {
     "cell_type": "heading",
     "level": 1,
     "metadata": {},
     "source": [
      "Nengo example: Routing through a sequence"
     ]
    },
    {
     "cell_type": "markdown",
     "metadata": {},
     "source": [
      "This demo uses the basal ganglia model to cycle through a sequence of five representations. The model incorporates a memory, which allows the basal ganglia to update that memory based on a set of input/action mappings. The mappings are defined in the code such that A->B, B->C, etc. until E->A completing a loop. \n",
      "\n",
      "When you run this demo, the sequence will be repeated indefinitely. It is interesting to note the time between the \u2018peaks\u2019 of the selected items. It's about 40ms for this simple action."
     ]
    },
    {
     "cell_type": "code",
     "collapsed": false,
     "input": [
      "# Setup for the notebook\n",
      "import nengo\n",
      "from nengo import spa"
     ],
     "language": "python",
     "metadata": {},
     "outputs": []
    },
    {
     "cell_type": "heading",
     "level": 2,
     "metadata": {},
     "source": [
      "Step 1: Define a rule set and modules"
     ]
    },
    {
     "cell_type": "markdown",
     "metadata": {},
     "source": [
      "Notice that when you specify actions, you're determining which modules are connected to which.  For example, by having a mapping that depends on the state of cortex, you are determining that the cortex and basal ganglia must be connected.  As well, when you specify that the result of the action changes the state of cortex, then you are determining that thalamus must be connected to cortex."
     ]
    },
    {
     "cell_type": "code",
     "collapsed": false,
     "input": [
      "# Number of dimensions for the Semantic Pointers\n",
      "dimensions = 16  \n",
      "\n",
      "class Sequence(spa.SPA):\n",
      "    def __init__(self):            \n",
      "        # Specify the modules to be used\n",
      "        self.cortex = spa.Buffer(dimensions=dimensions)\n",
      "\n",
      "        # Specify the action mapping\n",
      "        self.actions = spa.Actions(\n",
      "            'dot(cortex, A) --> cortex = B',\n",
      "            'dot(cortex, B) --> cortex = C',\n",
      "            'dot(cortex, C) --> cortex = D',\n",
      "            'dot(cortex, D) --> cortex = E',\n",
      "            'dot(cortex, E) --> cortex = A'\n",
      "        )\n",
      "\n",
      "        self.bg = spa.BasalGanglia(actions=self.actions)\n",
      "        self.thal = spa.Thalamus(self.bg)\n",
      "        \n",
      "        # Specify the input\n",
      "        def start(t):\n",
      "            if t < 0.05:\n",
      "                return 'A'\n",
      "            else:\n",
      "                return '0'\n",
      "\n",
      "        self.input = spa.Input(cortex=start)"
     ],
     "language": "python",
     "metadata": {},
     "outputs": []
    },
    {
     "cell_type": "heading",
     "level": 2,
     "metadata": {},
     "source": [
      "Step 2: Build, probe, and run the model"
     ]
    },
    {
     "cell_type": "code",
     "collapsed": false,
     "input": [
      "# Make a model object with the SPA network\n",
      "model = Sequence(label='Sequence_Module')\n",
      "\n",
      "with model:\n",
      "    # Probe things that will be plotted\n",
      "    state = nengo.Probe(model.cortex.state.output, synapse=0.01)\n",
      "    actions = nengo.Probe(model.thal.actions.output, synapse=0.01)\n",
      "    utility = nengo.Probe(model.bg.input, synapse=0.01)\n",
      "    \n",
      "# Make a simulator and run it\n",
      "sim = nengo.Simulator(model)\n",
      "sim.run(0.5)"
     ],
     "language": "python",
     "metadata": {},
     "outputs": []
    },
    {
     "cell_type": "heading",
     "level": 2,
     "metadata": {},
     "source": [
      "Step 3: Plot the results"
     ]
    },
    {
     "cell_type": "code",
     "collapsed": false,
     "input": [
      "%matplotlib inline\n",
      "import matplotlib.pyplot as plt\n",
      "\n",
      "fig = plt.figure(figsize=(12,8))\n",
      "p1 = fig.add_subplot(3,1,1)\n",
      "\n",
      "p1.plot(sim.trange(), spa.similarity(sim.data, state))\n",
      "p1.legend(state.target.vocab.keys, fontsize='x-small')\n",
      "p1.set_ylabel('State')\n",
      "\n",
      "p2 = fig.add_subplot(3,1,2)\n",
      "p2.plot(sim.trange(), sim.data[actions])\n",
      "p2.set_ylabel('Action')\n",
      "\n",
      "p3 = fig.add_subplot(3,1,3)\n",
      "p3.plot(sim.trange(), sim.data[utility])\n",
      "p3.set_ylabel('Utility')\n",
      "fig.subplots_adjust(hspace=0.2)"
     ],
     "language": "python",
     "metadata": {},
     "outputs": []
    }
   ],
   "metadata": {}
  }
 ]
}