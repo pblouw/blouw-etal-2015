{
 "metadata": {
  "name": "",
  "signature": "sha256:87db92c08de024c2f1a6b6a4e12b92a78ed471259ecdc8d85f10b5288d444eba"
 },
 "nbformat": 3,
 "nbformat_minor": 0,
 "worksheets": [
  {
   "cells": [
    {
     "cell_type": "code",
     "collapsed": false,
     "input": [
      "import timeit\n",
      "import numpy as np\n",
      "import matplotlib.pyplot as plt"
     ],
     "language": "python",
     "metadata": {},
     "outputs": [],
     "prompt_number": 1
    },
    {
     "cell_type": "code",
     "collapsed": false,
     "input": [
      "trials = 5"
     ],
     "language": "python",
     "metadata": {},
     "outputs": [],
     "prompt_number": 2
    },
    {
     "cell_type": "heading",
     "level": 1,
     "metadata": {},
     "source": [
      "Timing Functions"
     ]
    },
    {
     "cell_type": "code",
     "collapsed": false,
     "input": [
      "setup = '''\n",
      "import numpy as np\n",
      "import nengo\n",
      "import nengo.cache\n",
      "\n",
      "model = nengo.Network(seed=1)\n",
      "with model:\n",
      "    a = nengo.Ensemble({N}, dimensions={D})\n",
      "    b = nengo.Ensemble({N}, dimensions={D})\n",
      "    conn = nengo.Connection(a, b, eval_points={M})\n",
      "'''"
     ],
     "language": "python",
     "metadata": {},
     "outputs": [],
     "prompt_number": 3
    },
    {
     "cell_type": "code",
     "collapsed": false,
     "input": [
      "def time_without_cache(M, N, D):\n",
      "    print \"Timing (w/o cache)\", M, N, D\n",
      "    stmt = 'sim = nengo.Simulator(model, caching=False)'\n",
      "    return timeit.repeat(stmt, setup.format(M=M, N=N, D=D), number=1, repeat=trials)"
     ],
     "language": "python",
     "metadata": {},
     "outputs": [],
     "prompt_number": 4
    },
    {
     "cell_type": "code",
     "collapsed": false,
     "input": [
      "def time_with_cache_miss_ro(M, N, D):\n",
      "    print \"Timing (cache miss ro)\", M, N, D\n",
      "    stmt = 'nengo.cache.DecoderCache().invalidate(); sim = nengo.Simulator(model, caching=\"ro\")'\n",
      "    return timeit.repeat(stmt, setup.format(M=M, N=N, D=D), number=1, repeat=trials)"
     ],
     "language": "python",
     "metadata": {},
     "outputs": [],
     "prompt_number": 5
    },
    {
     "cell_type": "code",
     "collapsed": false,
     "input": [
      "def time_with_cache_miss(M, N, D):\n",
      "    print \"Timing (cache miss)\", M, N, D\n",
      "    stmt = 'nengo.cache.DecoderCache().invalidate(); sim = nengo.Simulator(model, caching=True)'\n",
      "    return timeit.repeat(stmt, setup.format(M=M, N=N, D=D), number=1, repeat=trials)"
     ],
     "language": "python",
     "metadata": {},
     "outputs": [],
     "prompt_number": 6
    },
    {
     "cell_type": "code",
     "collapsed": false,
     "input": [
      "def time_with_cache_hit(M, N, D):\n",
      "    print 'Timing', M, N, D\n",
      "    setup_and_cache = setup + '\\nsim = nengo.Simulator(model, caching=True)'\n",
      "    stmt = 'sim = nengo.Simulator(model, caching=True)'\n",
      "    return timeit.repeat(stmt, setup.format(M=M, N=N, D=D), number=1, repeat=trials)"
     ],
     "language": "python",
     "metadata": {},
     "outputs": [],
     "prompt_number": 7
    },
    {
     "cell_type": "heading",
     "level": 1,
     "metadata": {},
     "source": [
      "Plotting functions"
     ]
    },
    {
     "cell_type": "code",
     "collapsed": false,
     "input": [
      "def plot_result(xs, data, label=\"\", ax=None):\n",
      "    if ax is None:\n",
      "        ax = plt.gca()\n",
      "    ax.errorbar(xs, np.mean(data, axis=1), np.std(data, axis=1) / np.sqrt(trials), label=label)"
     ],
     "language": "python",
     "metadata": {},
     "outputs": [],
     "prompt_number": 8
    },
    {
     "cell_type": "heading",
     "level": 1,
     "metadata": {},
     "source": [
      "Varying $M$ (number of evaluation points)"
     ]
    },
    {
     "cell_type": "code",
     "collapsed": false,
     "input": [
      "D = 10\n",
      "N = 1500\n",
      "Ms = np.asarray(np.linspace(250, 5000, 10), dtype=int)"
     ],
     "language": "python",
     "metadata": {},
     "outputs": [],
     "prompt_number": 9
    },
    {
     "cell_type": "code",
     "collapsed": false,
     "input": [
      "no_cache = np.array([time_without_cache(M, N, D) for M in Ms])\n",
      "cache_miss = np.array([time_with_cache_miss(M, N, D) for M in Ms])\n",
      "cache_miss_ro = np.array([time_with_cache_miss_ro(M, N, D) for M in Ms])\n",
      "cache_hit = np.array([time_with_cache_hit(M, N, D) for M in Ms])"
     ],
     "language": "python",
     "metadata": {},
     "outputs": [],
     "prompt_number": 10
    },
    {
     "cell_type": "code",
     "collapsed": false,
     "input": [
      "plt.figure()\n",
      "plot_result(Ms, no_cache, label=\"no cache\")\n",
      "plot_result(Ms, cache_miss, label=\"cache miss\")\n",
      "plot_result(Ms, cache_miss_ro, label=\"cache miss ro\")\n",
      "plot_result(Ms, cache_hit, label=\"cache hit\")\n",
      "plt.xlabel(\"Number of evaluation points\")\n",
      "plt.ylabel(\"Build time [s]\")\n",
      "plt.legend(loc='best')"
     ],
     "language": "python",
     "metadata": {},
     "outputs": [],
     "prompt_number": 11
    },
    {
     "cell_type": "heading",
     "level": 1,
     "metadata": {},
     "source": [
      "Varying $N$ (number of neurons)"
     ]
    },
    {
     "cell_type": "code",
     "collapsed": false,
     "input": [
      "D = 10\n",
      "Ns = np.asarray(np.logspace(1, 4, 10), dtype=int)\n",
      "M = 1500"
     ],
     "language": "python",
     "metadata": {},
     "outputs": [],
     "prompt_number": 12
    },
    {
     "cell_type": "code",
     "collapsed": false,
     "input": [
      "no_cache = np.array([time_without_cache(M, N, D) for N in Ns])\n",
      "cache_miss = np.array([time_with_cache_miss(M, N, D) for N in Ns])\n",
      "cache_miss_ro = np.array([time_with_cache_miss_ro(M, N, D) for N in Ns])\n",
      "cache_hit = np.array([time_with_cache_hit(M, N, D) for N in Ns])"
     ],
     "language": "python",
     "metadata": {},
     "outputs": [],
     "prompt_number": 13
    },
    {
     "cell_type": "code",
     "collapsed": false,
     "input": [
      "plt.figure()\n",
      "plot_result(Ns, no_cache, label=\"no cache\")\n",
      "plot_result(Ns, cache_miss, label=\"cache miss\")\n",
      "plot_result(Ns, cache_miss_ro, label=\"cache miss ro\")\n",
      "plot_result(Ns, cache_hit, label=\"cache hit\")\n",
      "plt.xlabel(\"Number of neurons\")\n",
      "plt.ylabel(\"Build time [s]\")\n",
      "plt.legend(loc='best')"
     ],
     "language": "python",
     "metadata": {},
     "outputs": [],
     "prompt_number": 14
    },
    {
     "cell_type": "heading",
     "level": 1,
     "metadata": {},
     "source": [
      "Varying $D$ (number of dimensions)"
     ]
    },
    {
     "cell_type": "code",
     "collapsed": false,
     "input": [
      "Ds = np.asarray(np.logspace(1, 4, 5), dtype=int)\n",
      "N = 1000\n",
      "M = 1500"
     ],
     "language": "python",
     "metadata": {},
     "outputs": [],
     "prompt_number": 15
    },
    {
     "cell_type": "code",
     "collapsed": false,
     "input": [
      "no_cache = np.array([time_without_cache(M, N, D) for D in Ds])\n",
      "cache_miss = np.array([time_with_cache_miss(M, N, D) for D in Ds])\n",
      "cache_miss_ro = np.array([time_with_cache_miss_ro(M, N, D) for D in Ds])\n",
      "cache_hit = np.array([time_with_cache_hit(M, N, D) for D in Ds])"
     ],
     "language": "python",
     "metadata": {},
     "outputs": [],
     "prompt_number": 16
    },
    {
     "cell_type": "code",
     "collapsed": false,
     "input": [
      "plt.figure()\n",
      "plot_result(Ds, no_cache, label=\"no cache\")\n",
      "plot_result(Ds, cache_miss, label=\"cache miss\")\n",
      "plot_result(Ds, cache_miss_ro, label=\"cache miss ro\")\n",
      "plot_result(Ds, cache_hit, label=\"cache hit\")\n",
      "plt.xlabel(\"Number of dimensions\")\n",
      "plt.ylabel(\"Build time [s]\")\n",
      "plt.legend(loc='best')"
     ],
     "language": "python",
     "metadata": {},
     "outputs": [],
     "prompt_number": 17
    },
    {
     "cell_type": "code",
     "collapsed": false,
     "input": [],
     "language": "python",
     "metadata": {},
     "outputs": [],
     "prompt_number": 17
    }
   ],
   "metadata": {}
  }
 ]
}